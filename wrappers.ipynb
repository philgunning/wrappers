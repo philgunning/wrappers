{
 "cells": [
  {
   "cell_type": "markdown",
   "metadata": {},
   "source": [
    "## Python Function Wrappers (Decorators)"
   ]
  },
  {
   "cell_type": "markdown",
   "metadata": {},
   "source": [
    "### 1. What is a Decorator?\n",
    "\n",
    "A **decorator** is a higher-order function that takes a function as input and extends or modifies its behavior (including restriction).\n",
    "It’s a powerful tool in Python used to add functionality in a modular and reusable way.\n",
    "\n",
    "### 2. Basic Structure of a Decorator\n",
    "\n",
    "A simple decorator that adds a logging feature to a function."
   ]
  },
  {
   "cell_type": "code",
   "execution_count": 23,
   "metadata": {},
   "outputs": [],
   "source": [
    "def log_function_call(func):\n",
    "    def wrapper(*args, **kwargs):\n",
    "        print(f\"Calling {func.__name__} with args: {args}, kwargs: {kwargs}\")\n",
    "        result = func(*args, **kwargs)\n",
    "        print(f\"{func.__name__} returned: {result}\")\n",
    "        return result\n",
    "    return wrapper\n",
    "\n",
    "@log_function_call\n",
    "def logged_function(a, b):\n",
    "    return a + b\n",
    "\n",
    "def add_function(a, b):\n",
    "    return a + b"
   ]
  },
  {
   "cell_type": "code",
   "execution_count": null,
   "metadata": {},
   "outputs": [],
   "source": [
    "add_function(1, 2)"
   ]
  },
  {
   "cell_type": "code",
   "execution_count": null,
   "metadata": {},
   "outputs": [],
   "source": [
    "logged_function(1, 2)"
   ]
  },
  {
   "cell_type": "markdown",
   "metadata": {},
   "source": [
    "### 3.1. Timing Execution\n",
    "\n",
    "Wrappers can be used to time how long a function takes to execute. "
   ]
  },
  {
   "cell_type": "code",
   "execution_count": null,
   "metadata": {},
   "outputs": [],
   "source": [
    "import time\n",
    "\n",
    "def time_execution(func):\n",
    "    def wrapper(*args, **kwargs):\n",
    "        start_time = time.time()\n",
    "        result = func(*args, **kwargs)\n",
    "        end_time = time.time()\n",
    "        print(f\"Execution time of {func.__name__}: {end_time - start_time:.6f} seconds\")\n",
    "        return result\n",
    "    return wrapper\n",
    "\n",
    "@time_execution\n",
    "def slow_function():\n",
    "    time.sleep(2) \n",
    "    return \"Function Finished!\"\n",
    "\n",
    "slow_function()"
   ]
  },
  {
   "cell_type": "markdown",
   "metadata": {},
   "source": [
    "### 3.2. Access Control\n",
    "\n",
    "Decorators can control access to specific functions, which is useful for checking permissions or authorizing access."
   ]
  },
  {
   "cell_type": "code",
   "execution_count": 27,
   "metadata": {},
   "outputs": [],
   "source": [
    "def requires_admin(func):\n",
    "    def wrapper(*args, **kwargs):\n",
    "        user_role = kwargs.get('role', 'guest') # Checks role from kwargs, sets default to 'guest' if not found\n",
    "        if user_role != 'admin':\n",
    "            print(\"Access denied: Admins only!\")\n",
    "            return\n",
    "        return func(*args, **kwargs) # Calls the original function if the user is an admin\n",
    "    return wrapper\n",
    "\n",
    "@requires_admin\n",
    "def delete_database(*args, **kwargs):\n",
    "    print(\"Database deleted!\")"
   ]
  },
  {
   "cell_type": "code",
   "execution_count": null,
   "metadata": {},
   "outputs": [],
   "source": [
    "delete_database(role='guest')"
   ]
  },
  {
   "cell_type": "code",
   "execution_count": null,
   "metadata": {},
   "outputs": [],
   "source": [
    "delete_database(role='admin')"
   ]
  },
  {
   "cell_type": "markdown",
   "metadata": {},
   "source": [
    "Can read env variables is access levels are set at system level"
   ]
  },
  {
   "cell_type": "code",
   "execution_count": 30,
   "metadata": {},
   "outputs": [],
   "source": [
    "def requires_admin(func):\n",
    "    def wrapper(*args, **kwargs):\n",
    "        user_role = env_var_role # Checks role from env, just rpetend its sys.argv....\n",
    "        if user_role != 'admin':\n",
    "            print(\"Access denied: Admins only!\")\n",
    "            return\n",
    "        return func(*args, **kwargs) # Calls the original function if the user is an admin\n",
    "    return wrapper\n",
    "\n",
    "@requires_admin\n",
    "def delete_database(*args, **kwargs):\n",
    "    print(\"Database deleted!\")"
   ]
  },
  {
   "cell_type": "code",
   "execution_count": null,
   "metadata": {},
   "outputs": [],
   "source": [
    "env_var_role = 'guest'\n",
    "delete_database()"
   ]
  },
  {
   "cell_type": "code",
   "execution_count": null,
   "metadata": {},
   "outputs": [],
   "source": [
    "env_var_role = 'admin'\n",
    "delete_database()"
   ]
  },
  {
   "cell_type": "markdown",
   "metadata": {},
   "source": [
    "### 3.3. Caching Expensive Operations\n",
    "\n",
    "If a function is expensive to compute but often called with the same arguments, a decorator can be used to cache results and return them for repeated inputs."
   ]
  },
  {
   "cell_type": "code",
   "execution_count": 33,
   "metadata": {},
   "outputs": [],
   "source": [
    "def cache_func(func):\n",
    "    \"\"\"Decorator to cache results of function calls.\"\"\"\n",
    "    cache = {}\n",
    "    def wrapper(*args):\n",
    "        if args in cache:\n",
    "            print(f\"Returning cached result for {args}\")\n",
    "            return cache[args]\n",
    "        result = func(*args)\n",
    "        cache[args] = result\n",
    "        return result\n",
    "    return wrapper\n",
    "\n",
    "@cache_func\n",
    "def fibonacci(n):\n",
    "    if n in (0, 1):\n",
    "        return n\n",
    "    return fibonacci(n-1) + fibonacci(n-2)\n",
    "\n",
    "@cache_func\n",
    "def simple_add(a):\n",
    "    return a + 10"
   ]
  },
  {
   "cell_type": "code",
   "execution_count": null,
   "metadata": {},
   "outputs": [],
   "source": [
    "simple_add(10)"
   ]
  },
  {
   "cell_type": "code",
   "execution_count": null,
   "metadata": {},
   "outputs": [],
   "source": [
    "simple_add(10)"
   ]
  },
  {
   "cell_type": "code",
   "execution_count": null,
   "metadata": {},
   "outputs": [],
   "source": [
    "print(fibonacci(10))"
   ]
  },
  {
   "cell_type": "code",
   "execution_count": null,
   "metadata": {},
   "outputs": [],
   "source": [
    "print(fibonacci(10)) # Result fetched from cache"
   ]
  },
  {
   "cell_type": "markdown",
   "metadata": {},
   "source": [
    "### 3.4. Input Validation\n",
    "\n",
    "You can use a function wrapper to validate inputs before the function logic is executed."
   ]
  },
  {
   "cell_type": "code",
   "execution_count": 38,
   "metadata": {},
   "outputs": [],
   "source": [
    "def validate_non_negative(func):\n",
    "    \"\"\"Decorator to ensure arguments are non-negative.\"\"\"\n",
    "    def wrapper(*args, **kwargs):\n",
    "        if any(arg < 0 for arg in args):\n",
    "            raise ValueError(\"Negative values are not allowed!\")\n",
    "        return func(*args, **kwargs)\n",
    "    return wrapper\n",
    "\n",
    "@validate_non_negative\n",
    "def factorial(n):\n",
    "    \"\"\"Computes the factorial of a number.\"\"\"\n",
    "    if n == 0:\n",
    "        return 1\n",
    "    return n * factorial(n - 1)"
   ]
  },
  {
   "cell_type": "code",
   "execution_count": null,
   "metadata": {},
   "outputs": [],
   "source": [
    "factorial(5)"
   ]
  },
  {
   "cell_type": "code",
   "execution_count": null,
   "metadata": {},
   "outputs": [],
   "source": [
    "try:\n",
    "    factorial(-1)\n",
    "except ValueError as e:\n",
    "    print(e)"
   ]
  },
  {
   "cell_type": "markdown",
   "metadata": {},
   "source": [
    "### 3.5. Retrying on Failure\n",
    "\n",
    "Wrappers can also implement retry logic for functions that may fail due to external issues (e.g., network calls)."
   ]
  },
  {
   "cell_type": "code",
   "execution_count": 41,
   "metadata": {},
   "outputs": [],
   "source": [
    "def retry_on_failure(retries=3):\n",
    "    \"\"\"Decorator to retry a function if it fails.\"\"\"\n",
    "    def decorator(func):\n",
    "        def wrapper(*args, **kwargs):\n",
    "            attempts = 0\n",
    "            while attempts < retries:\n",
    "                try:\n",
    "                    return func(*args, **kwargs)\n",
    "                except Exception as e:\n",
    "                    print(f\"Attempt {attempts + 1} failed: {e}\")\n",
    "                    attempts += 1\n",
    "            raise Exception(f\"Function {func.__name__} failed after {retries} retries\")\n",
    "        return wrapper\n",
    "    return decorator"
   ]
  },
  {
   "cell_type": "code",
   "execution_count": 43,
   "metadata": {},
   "outputs": [],
   "source": [
    "# Simulate a function that fails intermittently\n",
    "import random\n",
    "\n",
    "@retry_on_failure(retries=1)\n",
    "def unreliable_function():\n",
    "    \"\"\"Simulates a function that fails randomly.\"\"\"\n",
    "    if random.choice([True, False]):\n",
    "        raise ValueError(\"Random failure!\")\n",
    "    return \"Success!\""
   ]
  },
  {
   "cell_type": "code",
   "execution_count": null,
   "metadata": {},
   "outputs": [],
   "source": [
    "try:\n",
    "    print(unreliable_function())\n",
    "except Exception as e:\n",
    "    print(e)"
   ]
  },
  {
   "cell_type": "markdown",
   "metadata": {},
   "source": [
    "### 4.1. Nested Decorators\n",
    "\n",
    "You can apply multiple decorators to a single function. This is useful when you need to layer behavior."
   ]
  },
  {
   "cell_type": "code",
   "execution_count": 49,
   "metadata": {},
   "outputs": [],
   "source": [
    "def combined_decorator(func):\n",
    "    \"\"\"Combines logging, timing, and caching in one decorator.\"\"\"\n",
    "    @log_function_call\n",
    "    @time_execution\n",
    "    @cache_func\n",
    "    def wrapper(*args, **kwargs):\n",
    "        return func(*args, **kwargs)\n",
    "    return wrapper\n",
    "\n",
    "@combined_decorator\n",
    "def slow_fibonacci(n):\n",
    "    if n in (0, 1):\n",
    "        return n\n",
    "    return slow_fibonacci(n-1) + slow_fibonacci(n-2)"
   ]
  },
  {
   "cell_type": "code",
   "execution_count": null,
   "metadata": {},
   "outputs": [],
   "source": [
    "slow_fibonacci(4)"
   ]
  },
  {
   "cell_type": "markdown",
   "metadata": {},
   "source": [
    "### 4.2. Class-based Decorators\n",
    "\n",
    "Function decorators aren't limited to functions—they can be applied to classes as well.\n",
    "Here’s how you can create a class-based decorator that wraps around a function, allowing for more complex state management."
   ]
  },
  {
   "cell_type": "code",
   "execution_count": 54,
   "metadata": {},
   "outputs": [],
   "source": [
    "class CountCalls:\n",
    "    \"\"\"Decorator that counts how many times a function is called.\"\"\"\n",
    "    def __init__(self, func):\n",
    "        self.func = func\n",
    "        self.num_calls = 0\n",
    "\n",
    "    def __call__(self, *args, **kwargs):\n",
    "        self.num_calls += 1\n",
    "        print(f\"{self.func.__name__} has been called {self.num_calls} times.\")\n",
    "        return self.func(*args, **kwargs)\n",
    "\n",
    "# Apply the class-based decorator\n",
    "@CountCalls\n",
    "def greet(name):\n",
    "    print(f\"Hello, {name}!\")"
   ]
  },
  {
   "cell_type": "code",
   "execution_count": null,
   "metadata": {},
   "outputs": [],
   "source": [
    "greet(\"Alice\")\n",
    "greet(\"Bob\")\n",
    "greet(\"Charlie\")"
   ]
  },
  {
   "cell_type": "markdown",
   "metadata": {},
   "source": [
    "### 4.3. Parameterized Decorators\n",
    "\n",
    "Sometimes you want your decorator to accept arguments (e.g., to customize behavior).\n",
    "A decorator that accepts arguments is known as a **parameterized decorator**.\n"
   ]
  },
  {
   "cell_type": "code",
   "execution_count": 57,
   "metadata": {},
   "outputs": [],
   "source": [
    "def repeat(num_times):\n",
    "    \"\"\"Decorator that repeats the function call a given number of times.\"\"\"\n",
    "    def decorator(func):\n",
    "        def wrapper(*args, **kwargs):\n",
    "            for _ in range(num_times):\n",
    "                result = func(*args, **kwargs)\n",
    "            return result\n",
    "        return wrapper\n",
    "    return decorator\n",
    "\n",
    "# Apply the parameterized decorator\n",
    "@repeat(num_times=3)\n",
    "def say_hello(name):\n",
    "    print(f\"Hello, {name}!\")"
   ]
  },
  {
   "cell_type": "code",
   "execution_count": null,
   "metadata": {},
   "outputs": [],
   "source": [
    "say_hello(\"Python Stream!\")"
   ]
  },
  {
   "cell_type": "code",
   "execution_count": 65,
   "metadata": {},
   "outputs": [],
   "source": [
    "## Real world example\n",
    "\n",
    "def inactive_wrapper(blocked_response):\n",
    "    def decorator(func):\n",
    "        def wrapper(*args, **kwargs):\n",
    "            if ACTIVE:\n",
    "                return func(*args, **kwargs)\n",
    "            else:\n",
    "                print(\"Command execution blocked.\")\n",
    "                return blocked_response\n",
    "\n",
    "        return wrapper\n",
    "\n",
    "    return decorator\n",
    "\n",
    "@inactive_wrapper(blocked_response=\"Simulated Message Sent!\")\n",
    "def send_outbound_message(message):\n",
    "    print(f\"Sending message to API: {message}\")\n",
    "    return \"Message sent!\""
   ]
  },
  {
   "cell_type": "code",
   "execution_count": null,
   "metadata": {},
   "outputs": [],
   "source": [
    "ACTIVE = True\n",
    "send_outbound_message(\"Charge a battery\")"
   ]
  },
  {
   "cell_type": "code",
   "execution_count": null,
   "metadata": {},
   "outputs": [],
   "source": [
    "ACTIVE = False\n",
    "send_outbound_message(\"Charge a battery\")"
   ]
  },
  {
   "cell_type": "markdown",
   "metadata": {},
   "source": [
    "### 4.4. Stateful Decorators (Tracking State)\n",
    "\n",
    "A decorator can also maintain internal state across multiple calls.\n",
    "This is particularly useful when you need to track information over time, like rate-limiting calls or counting usage.\n"
   ]
  },
  {
   "cell_type": "code",
   "execution_count": 68,
   "metadata": {},
   "outputs": [],
   "source": [
    "class RateLimiter:\n",
    "    \"\"\"Decorator to limit the rate at which a function can be called.\"\"\"\n",
    "    def __init__(self, max_calls, period):\n",
    "        self.max_calls = max_calls\n",
    "        self.period = period\n",
    "        self.calls = []\n",
    "    \n",
    "    def __call__(self, func):\n",
    "        def wrapper(*args, **kwargs):\n",
    "            now = time.time()\n",
    "            self.calls = [call for call in self.calls if call > now - self.period]\n",
    "            if len(self.calls) >= self.max_calls:\n",
    "                raise Exception(f\"Rate limit exceeded: Max {self.max_calls} calls per {self.period} seconds\")\n",
    "            self.calls.append(now)\n",
    "            return func(*args, **kwargs)\n",
    "        return wrapper\n",
    "\n",
    "@RateLimiter(max_calls=3, period=5)  # Max 3 calls every 5 seconds\n",
    "def api_call():\n",
    "    print(\"API call executed!\")"
   ]
  },
  {
   "cell_type": "code",
   "execution_count": null,
   "metadata": {},
   "outputs": [],
   "source": [
    "try:\n",
    "    api_call()\n",
    "    api_call()\n",
    "    api_call()\n",
    "    api_call()  # This one should raise an exception\n",
    "except Exception as e:\n",
    "    print(e)"
   ]
  },
  {
   "cell_type": "markdown",
   "metadata": {},
   "source": [
    "### 4.5 Coroutines and Async Decorators\n",
    "\n",
    "In Python's asynchronous programming, decorators are equally useful.\n",
    "You can create decorators that work with `async` functions to provide functionality like retry logic or timing."
   ]
  },
  {
   "cell_type": "code",
   "execution_count": 70,
   "metadata": {},
   "outputs": [],
   "source": [
    "import asyncio\n",
    "\n",
    "def async_retry_on_failure(retries=3):\n",
    "    \"\"\"Async decorator to retry a coroutine on failure.\"\"\"\n",
    "    def decorator(func):\n",
    "        async def wrapper(*args, **kwargs):\n",
    "            attempts = 0\n",
    "            while attempts < retries:\n",
    "                try:\n",
    "                    return await func(*args, **kwargs)\n",
    "                except Exception as e:\n",
    "                    print(f\"Attempt {attempts + 1} failed: {e}\")\n",
    "                    attempts += 1\n",
    "            raise Exception(f\"Function {func.__name__} failed after {retries} retries\")\n",
    "        return wrapper\n",
    "    return decorator\n",
    "\n",
    "# Define an async function with the retry decorator\n",
    "\n",
    "@async_retry_on_failure(retries=5)\n",
    "async def unreliable_async_function():\n",
    "    \"\"\"Simulates an async function that fails randomly.\"\"\"\n",
    "    if random.choice([True, False]):\n",
    "        raise ValueError(\"Random async failure!\")\n",
    "    return \"Async Success!\""
   ]
  },
  {
   "cell_type": "code",
   "execution_count": null,
   "metadata": {},
   "outputs": [],
   "source": [
    "# Run the async function\n",
    "async def main():\n",
    "    try:\n",
    "        result = await unreliable_async_function()\n",
    "        print(result)\n",
    "    except Exception as e:\n",
    "        print(e)\n",
    "\n",
    "# To test, use asyncio to run the main function\n",
    "await main()"
   ]
  },
  {
   "cell_type": "markdown",
   "metadata": {},
   "source": [
    "### 5.1. Decorating Methods in Classes\n",
    "\n",
    "A common challenge when decorating methods inside classes is handling the `self` parameter correctly.\n",
    "When a decorator wraps a method, it needs to ensure the method still receives the instance (`self`) as the first argument.\n",
    "\n",
    "Wrappers must be built for class or non class functions seperatley."
   ]
  },
  {
   "cell_type": "code",
   "execution_count": 72,
   "metadata": {},
   "outputs": [],
   "source": [
    "def method_logger(func):\n",
    "    \"\"\"Decorator to log method calls.\"\"\"\n",
    "    def wrapper(self, *args, **kwargs):  # Note the inclusion of 'self'\n",
    "        print(f\"Calling {func.__name__} from {self.__class__.__name__} with args: {args}, kwargs: {kwargs}\")\n",
    "        result = func(self, *args, **kwargs)\n",
    "        print(f\"{func.__name__} returned: {result}\")\n",
    "        return result\n",
    "    return wrapper\n",
    "\n",
    "# Class with decorated methods\n",
    "class MyClass:\n",
    "    def __init__(self, x):\n",
    "        self.x = x\n",
    "\n",
    "    @method_logger\n",
    "    def increment(self, value):\n",
    "        self.x += value\n",
    "        return self.x\n",
    "\n",
    "    @method_logger\n",
    "    def decrement(self, value):\n",
    "        self.x -= value\n",
    "        return self.x"
   ]
  },
  {
   "cell_type": "code",
   "execution_count": null,
   "metadata": {},
   "outputs": [],
   "source": [
    "obj = MyClass(10)\n",
    "obj.increment(5)\n",
    "obj.decrement(3)"
   ]
  },
  {
   "cell_type": "markdown",
   "metadata": {},
   "source": [
    "### 5.2. Function Wrappers that Modify Function Signatures\n",
    "\n",
    "Python's `inspect` module allows us to modify a function’s signature dynamically.\n",
    "This can be useful when you want to create decorators that adapt to the function’s parameters and enforce certain contracts.\n"
   ]
  },
  {
   "cell_type": "code",
   "execution_count": null,
   "metadata": {},
   "outputs": [],
   "source": [
    "import inspect\n",
    "\n",
    "def add_function(a: int, b: int) -> int:\n",
    "    return a + b\n",
    "\n",
    "inspect.signature(add_function)"
   ]
  },
  {
   "cell_type": "code",
   "execution_count": null,
   "metadata": {},
   "outputs": [],
   "source": [
    "\n",
    "def enforce_types(func):\n",
    "    \"\"\"Decorator to enforce type annotations of function parameters.\"\"\"\n",
    "    sig = inspect.signature(func)\n",
    "    def wrapper(*args, **kwargs):\n",
    "        bound_args = sig.bind(*args, **kwargs)\n",
    "        for name, value in bound_args.arguments.items():\n",
    "            expected_type = sig.parameters[name].annotation\n",
    "            if expected_type != inspect.Parameter.empty and not isinstance(value, expected_type):\n",
    "                raise TypeError(f\"Argument {name} must be of type {expected_type}\")\n",
    "        return func(*args, **kwargs)\n",
    "    return wrapper\n",
    "\n",
    "# Function with type annotations\n",
    "@enforce_types\n",
    "def concatenate_strings(a: str, b: str) -> str:\n",
    "    return a + b"
   ]
  },
  {
   "cell_type": "code",
   "execution_count": null,
   "metadata": {},
   "outputs": [],
   "source": [
    "# Call the function with valid types\n",
    "concatenate_strings(\"Hello, \", \"World\")"
   ]
  },
  {
   "cell_type": "code",
   "execution_count": null,
   "metadata": {},
   "outputs": [],
   "source": [
    "# Call the function with invalid types (this will raise a TypeError)\n",
    "try:\n",
    "    concatenate_strings(\"Hello, \", 100)\n",
    "except TypeError as e:\n",
    "    print(e)"
   ]
  },
  {
   "cell_type": "markdown",
   "metadata": {},
   "source": [
    "### 5.3. Contextual Decorators (Interacting with External Systems)\n",
    "\n",
    "In real-world scenarios, decorators often need to interact with external systems like logging frameworks, databases, or APIs.\n",
    "Here’s how you could build a decorator that logs to an external logging system or sends metrics to an external monitoring service."
   ]
  },
  {
   "cell_type": "code",
   "execution_count": 84,
   "metadata": {},
   "outputs": [],
   "source": [
    "\n",
    "import logging\n",
    "\n",
    "# Set up a logging configuration\n",
    "logging.basicConfig(level=logging.INFO)\n",
    "\n",
    "def log_to_external_system(func):\n",
    "    \"\"\"Decorator to log function execution to an external logging system.\"\"\"\n",
    "    def wrapper(*args, **kwargs):\n",
    "        logging.info(f\"Calling {func.__name__} with args={args}, kwargs={kwargs}\")\n",
    "        result = func(*args, **kwargs)\n",
    "        logging.info(f\"{func.__name__} returned: {result}\")\n",
    "        return result\n",
    "    return wrapper\n",
    "\n",
    "# Simulate an external monitoring system\n",
    "def send_to_monitoring_system(func):\n",
    "    \"\"\"Decorator to send metrics to an external monitoring system.\"\"\"\n",
    "    def wrapper(*args, **kwargs):\n",
    "        result = func(*args, **kwargs)\n",
    "        print(f\"Big Brother gets: Function {func.__name__} executed with result={result}\")\n",
    "        return result\n",
    "    return wrapper\n",
    "\n",
    "# Apply both decorators to a function\n",
    "@log_to_external_system\n",
    "@send_to_monitoring_system\n",
    "def compute_sum(a, b):\n",
    "    return a + b"
   ]
  },
  {
   "cell_type": "code",
   "execution_count": null,
   "metadata": {},
   "outputs": [],
   "source": [
    "# Call the function to see logging and monitoring collection\n",
    "compute_sum(5, 10)"
   ]
  },
  {
   "cell_type": "markdown",
   "metadata": {},
   "source": [
    "### 5.4. Decorators to Modify Class Behavior\n",
    "\n",
    "Function wrappers can be applied to **entire classes**, modifying the behavior of class instances.\n",
    "For example, a decorator could be used to automatically log changes to object attributes or manage resources like a database connection."
   ]
  },
  {
   "cell_type": "code",
   "execution_count": 87,
   "metadata": {},
   "outputs": [],
   "source": [
    "def track_attribute_changes(cls):\n",
    "    \"\"\"Class decorator to track changes to attributes.\"\"\"\n",
    "    original_setattr = cls.__setattr__\n",
    "    \n",
    "    def new_setattr(self, name, value):\n",
    "        print(f\"Attribute {name} is being set to {value}\")\n",
    "        original_setattr(self, name, value)\n",
    "    \n",
    "    cls.__setattr__ = new_setattr\n",
    "    return cls\n",
    "\n",
    "# Apply the class decorator\n",
    "@track_attribute_changes\n",
    "class TrackedClass:\n",
    "    def __init__(self, x, y):\n",
    "        self.x = x\n",
    "        self.y = y"
   ]
  },
  {
   "cell_type": "code",
   "execution_count": null,
   "metadata": {},
   "outputs": [],
   "source": [
    "# Instantiate and modify object attributes\n",
    "obj = TrackedClass(10, 20)\n",
    "obj.x = 30  # This change will be logged\n",
    "obj.y = 40  # This change will be logged as well"
   ]
  },
  {
   "cell_type": "markdown",
   "metadata": {},
   "source": [
    "### 5.5. Metaprogramming with Decorators (Auto-Implementations)\n",
    "\n",
    "Advanced decorators can even auto-implement certain methods or inject functionality into classes dynamically.\n",
    "This can be useful for adding common methods (like __repr__ or equality checks) without writing them manually."
   ]
  },
  {
   "cell_type": "code",
   "execution_count": 92,
   "metadata": {},
   "outputs": [],
   "source": [
    "\n",
    "def auto_repr(cls):\n",
    "    \"\"\"Class decorator to automatically generate __repr__ based on class attributes.\"\"\"\n",
    "    def repr_func(self):\n",
    "        class_name = self.__class__.__name__\n",
    "        attributes = ', '.join(f'{k}={v!r}' for k, v in self.__dict__.items())\n",
    "        return f'{class_name}({attributes})'\n",
    "    \n",
    "    cls.__repr__ = repr_func\n",
    "    return cls\n",
    "\n",
    "# Apply the decorator to a class\n",
    "@auto_repr\n",
    "class Person:\n",
    "    def __init__(self, name, age):\n",
    "        self.name = name\n",
    "        self.age = age\n",
    "\n",
    "class UndecoratedPerson:\n",
    "    def __init__(self, name, age):\n",
    "        self.name = name\n",
    "        self.age = age"
   ]
  },
  {
   "cell_type": "code",
   "execution_count": null,
   "metadata": {},
   "outputs": [],
   "source": [
    "p = Person(\"Phil\", 34)\n",
    "print(p)"
   ]
  },
  {
   "cell_type": "code",
   "execution_count": null,
   "metadata": {},
   "outputs": [],
   "source": [
    "p = UndecoratedPerson(\"Phil\", 34)\n",
    "print(p)"
   ]
  },
  {
   "cell_type": "markdown",
   "metadata": {},
   "source": [
    "### 5.5 Class Factory Decorators"
   ]
  },
  {
   "cell_type": "code",
   "execution_count": 101,
   "metadata": {},
   "outputs": [],
   "source": [
    "class Dog:\n",
    "    def __init__(self, name):\n",
    "        self.name = name\n",
    "    \n",
    "    def speak(self):\n",
    "        return f\"{self.name} says Woof!\"\n",
    "\n",
    "    def walk(self):\n",
    "        return f\"{self.name} is walking.\"\n",
    "    \n",
    "class Cat:\n",
    "    def __init__(self, name):\n",
    "        self.name = name\n",
    "    \n",
    "    def speak(self):\n",
    "        return f\"{self.name} says Meow!\"\n",
    "\n",
    "def animal_factory(func):\n",
    "    \"\"\"Factory decorator that returns an instance of an animal class with attributes.\"\"\"\n",
    "    def wrapper(*args, **kwargs):\n",
    "        animal_type, name = func(*args, **kwargs)  # Get animal type and name from the function\n",
    "        if animal_type == 'dog':\n",
    "            return Dog(name)\n",
    "        elif animal_type == 'cat':\n",
    "            return Cat(name)\n",
    "        else:\n",
    "            raise ValueError(f\"Unknown animal type: {animal_type}\")\n",
    "    return wrapper\n",
    "\n",
    "\n",
    "@animal_factory\n",
    "def get_animal_with_name(animal_type, name):\n",
    "    \"\"\"Returns the type of animal and its name.\"\"\"\n",
    "    return animal_type, name"
   ]
  },
  {
   "cell_type": "code",
   "execution_count": 106,
   "metadata": {},
   "outputs": [],
   "source": [
    "\n",
    "hugo = get_animal_with_name('dog', 'Hugo')\n",
    "felix = get_animal_with_name('cat', 'Felix')"
   ]
  },
  {
   "cell_type": "code",
   "execution_count": null,
   "metadata": {},
   "outputs": [],
   "source": [
    "hugo.speak() "
   ]
  },
  {
   "cell_type": "code",
   "execution_count": null,
   "metadata": {},
   "outputs": [],
   "source": [
    "felix.speak()"
   ]
  },
  {
   "cell_type": "code",
   "execution_count": null,
   "metadata": {},
   "outputs": [],
   "source": [
    "hugo.walk()"
   ]
  },
  {
   "cell_type": "code",
   "execution_count": null,
   "metadata": {},
   "outputs": [],
   "source": [
    "try:\n",
    "    felix.walk()\n",
    "except AttributeError as e:\n",
    "    print(e)"
   ]
  },
  {
   "cell_type": "code",
   "execution_count": null,
   "metadata": {},
   "outputs": [],
   "source": []
  }
 ],
 "metadata": {
  "kernelspec": {
   "display_name": "venv",
   "language": "python",
   "name": "python3"
  },
  "language_info": {
   "codemirror_mode": {
    "name": "ipython",
    "version": 3
   },
   "file_extension": ".py",
   "mimetype": "text/x-python",
   "name": "python",
   "nbconvert_exporter": "python",
   "pygments_lexer": "ipython3",
   "version": "3.10.12"
  }
 },
 "nbformat": 4,
 "nbformat_minor": 2
}
